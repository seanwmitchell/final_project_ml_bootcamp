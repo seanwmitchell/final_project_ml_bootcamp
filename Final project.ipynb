{
 "cells": [
  {
   "cell_type": "code",
   "execution_count": 10,
   "metadata": {},
   "outputs": [],
   "source": [
    "# For use with postgresql data import\n",
    "# !pip3 install psycopg2\n",
    "import psycopg2\n",
    "\n",
    "# For named entity recognition\n",
    "# !python3 -m spacy download en_core_web_sm\n",
    "import spacy\n",
    "nlp = spacy.load(\"en_core_web_sm\")\n",
    "\n",
    "from bs4 import BeautifulSoup\n",
    "\n",
    "import pandas as pd\n",
    "from collections import Counter\n",
    "\n",
    "# !pip install inflection\n",
    "import inflection"
   ]
  },
  {
   "cell_type": "code",
   "execution_count": 11,
   "metadata": {},
   "outputs": [],
   "source": [
    "# Connect to the DB and prepare the stories\n",
    "\n",
    "conn = psycopg2.connect(\"dbname=techday_development user=seanm\")\n",
    "cur = conn.cursor()\n",
    "cur.execute(\"SELECT stories.slug, CONCAT_WS('. ', title, intro, body) AS corpora, STRING_AGG(tags.name, ', ') AS tags FROM stories INNER JOIN taggings ON stories.id = taggings.story_id INNER JOIN tags ON taggings.tag_id = tags.id GROUP BY stories.slug, title, intro, body, publish_timestamp ORDER BY random() LIMIT 5;\")\n",
    "corpus = cur.fetchall()\n",
    "conn.close()"
   ]
  },
  {
   "cell_type": "code",
   "execution_count": 12,
   "metadata": {},
   "outputs": [
    {
     "data": {
      "text/plain": [
       "('moustache-republic-expands-aussie-presence-with-new-exec',\n",
       " 'Moustache Republic expands Aussie presence with new exec. The Kiwi digital commerce partner has appointed a Sydney-based director to oversee the expansion of the company’s Australian footprint.. <p>Moustache Republic, a digital commerce partner, has expanded its executive team in Australia with the appointment of Laura Doonin as Partner and Director.</p>\\r\\n\\r\\n<p>Based in Sydney, Doonin joins Moustache Republic with 15 years&rsquo; experience working with retail businesses during which time she has developed and implemented ecommerce and omnichannel solutions to meet the fast evolving expectations of B2B and B2C organisations.</p>\\r\\n\\r\\n<p>In her role at Moustache Republic, Doonin will be responsible for expanding the company&rsquo;s Australian market footprint and supporting retailers in delivering ecommerce solutions based on great user design and leading edge SaaS technologies.</p>\\r\\n\\r\\n<p>Doonin was previously digital general manager at Pharmacy 4 Less where she drove the organisation&rsquo;s digital and ecommerce business strategy across the company&rsquo;s three brands, including Roy Young, Your Chemist Shop and Pharmacy 4 Less.</p>\\r\\n\\r\\n<p>Previously, Doonin was Head of Client Relations at Pitney Bowes where she was responsible for launching the Pitney Bowes global ecommerce solution.</p>\\r\\n\\r\\n<p>She also worked at eBay for more than four years in several roles, including as head of Fashion Vertical where she launched and scaled eBay&rsquo;s Australian fashion business.&nbsp;</p>\\r\\n\\r\\n<p>She was subsequently appointed eBay&rsquo;s strategic relationships manager where she headed up partnerships and was responsible for onboarding some of the biggest retailers in the country onto eBay.</p>\\r\\n\\r\\n<p>Doonin is also an advisory board member of Retail Global Event and has a Bachelor of Science Honours in Fashion Design and Business Management from Heriot-Watt University in Scotland.</p>\\r\\n\\r\\n<p>&ldquo;We are thrilled that Laura has joined Moustache Republic at this time,&rdquo; says founder and managing director Tony Hou.&nbsp;</p>\\r\\n\\r\\n<p>&ldquo;Her skills and experience in delivering creative, analytics-based digital commerce, omni-channel strategies and experiences will be of immense value and benefit to our clients who more than ever require strategic insight to support exponential growth and a trajectory for ongoing success.&rdquo;</p>\\r\\n\\r\\n<p>The company&rsquo;s Australian headquarters are based in Sydney where it specialises in ecommerce applications, warehousing and order fulfilments, customer service and marketing strategy for both B2B and B2C clients.&nbsp;</p>\\r\\n\\r\\n<p>The company was originally established in New Zealand and also has a marker presence and office in the Philippines.</p>\\r\\n',\n",
       " 'Job appointments, e-commerce, Australian expansion, Moustache Republic')"
      ]
     },
     "execution_count": 12,
     "metadata": {},
     "output_type": "execute_result"
    }
   ],
   "source": [
    "# Check a corpora from the corpus\n",
    "\n",
    "corpus[0]"
   ]
  },
  {
   "cell_type": "code",
   "execution_count": 13,
   "metadata": {},
   "outputs": [
    {
     "name": "stdout",
     "output_type": "stream",
     "text": [
      "https://techday.asia/story/moustache-republic-expands-aussie-presence-with-new-exec\n",
      "Corpora word count =  372 \n",
      "\n",
      "ML tags = [('Moustache Republic', 4), ('EBay', 4), ('Pitney Bowe', 2), ('Aussie', 1), ('Kiwi', 1), ('Pharmacy 4 Less', 1), ('Fashion Vertical', 1), ('Retail Global Event', 1), ('Bachelor of Science Honour', 1), ('Heriot-Watt University', 1), ('Digital commerce', 1), ('Omni-channel', 1)] \n",
      "\n",
      "Human tags = ['Job appointments, e-commerce, Australian expansion, Moustache Republic'] \n",
      "\n",
      "\n",
      "https://techday.asia/story/aussie-data-centre-centrify-demand-local-idaas-grows\n",
      "Corpora word count =  393 \n",
      "\n",
      "ML tags = [('Centrify', 3), ('Aussie', 1), ('Centrify ANZ', 1), ('The Centrify Identity Service CI', 1), ('Centrify Privilege Service', 1), ('Niall King', 1), ('Gartner', 1), ('Amazon Cloud Service', 1), ('King', 1)] \n",
      "\n",
      "Human tags = ['IDaaS, Centrify'] \n",
      "\n",
      "\n",
      "https://techday.asia/story/familiar-face-manage-microsofts-aussie-surface-channel\n",
      "Corpora word count =  298 \n",
      "\n",
      "ML tags = [('Microsoft', 8), ('Viet', 2), ('ANZ', 2), ('Lenovo ANZ', 1), ('Lenovo', 1), ('ChannelLife', 1), ('Surface Commercial Channel Lead', 1), ('Surface', 1), ('Synnex', 1), ('Ingram Micro', 1)] \n",
      "\n",
      "Human tags = ['Surface, Microsoft Australia, Lenovo'] \n",
      "\n",
      "\n",
      "https://techday.asia/story/homegrown-tech-export-cracking-america\n",
      "Corpora word count =  424 \n",
      "\n",
      "ML tags = [('ActionStep', 9), ('Navman', 2), ('Technolawyer', 2), ('ActionStep Legal Practice Management Solution', 1), ('Kiwi', 1)] \n",
      "\n",
      "Human tags = ['ActionStep'] \n",
      "\n",
      "\n",
      "https://techday.asia/story/ingram-micro-showcase-highlight-future-technology\n",
      "Corpora word count =  702 \n",
      "\n",
      "ML tags = [('Ingram Micro Showcase', 2), ('Ingram Micro', 1), ('Ingram Micro New Zealand', 1), ('The Ingram Micro Cloud Marketplace', 1), ('IDSync', 1), ('Bigwood\\n', 1), ('The Punakaiki Fund', 1), ('The Bank of New Zealand', 1), ('PHD Medium', 1), ('Digital Strategy', 1)] \n",
      "\n",
      "Human tags = ['IDC, Distributor news, Ingram Micro, Ingram Micro New Zealand, Ingram Micro Showcase 2018'] \n",
      "\n",
      "\n"
     ]
    }
   ],
   "source": [
    "for corpora in corpus:\n",
    "    # Print the website address\n",
    "    print(\"https://techday.asia/story/\" + corpora[0])\n",
    "    \n",
    "    # Print the corpus word count\n",
    "    print(\"Corpora word count = \", len(corpora[1].split()), '\\n')\n",
    "    \n",
    "    # Remove HTML\n",
    "    corpora_sans_html = BeautifulSoup(corpora[1], \"lxml\").text\n",
    "    \n",
    "    # Removing quotes and brackets\n",
    "    final_corpora = corpora_sans_html.replace(\"'\",\"\").replace('\"',\"\").replace('(',\"\").replace(')',\"\")\n",
    "    \n",
    "    # Create instance of the model\n",
    "    doc = nlp(final_corpora)\n",
    "    \n",
    "    # Filter down to raw named entities\n",
    "    raw = []\n",
    "    raw = [ent.text for ent in doc.ents] \n",
    "\n",
    "    # Iterate through named entities\n",
    "    names = []\n",
    "    for ent in doc.ents:\n",
    "        \n",
    "         # Filter our unneeded named entities\n",
    "        if ent.label_ == \"ORG\" or ent.label_ == \"CARDINAL\" and ent.label_ == \"PERSON\":\n",
    "            \n",
    "            # Singularize the word\n",
    "            word = inflection.singularize(ent.text)\n",
    "            \n",
    "            # Capitalize the first letter without impacting the rest\n",
    "            names.append(word[0].capitalize() + word[1:])\n",
    "            \n",
    "    # Identify the most common named entities and counts\n",
    "    final_ml = Counter(names).most_common()\n",
    "    \n",
    "    # Print the comparisons\n",
    "    \n",
    "    # print(\"Raw ML tags =\", raw, '\\n')\n",
    "    print(\"ML tags =\", final_ml, '\\n')\n",
    "    print(\"Human tags =\", [corpora[2]], '\\n\\n')"
   ]
  },
  {
   "cell_type": "code",
   "execution_count": null,
   "metadata": {},
   "outputs": [],
   "source": []
  },
  {
   "cell_type": "code",
   "execution_count": null,
   "metadata": {},
   "outputs": [],
   "source": []
  }
 ],
 "metadata": {
  "kernelspec": {
   "display_name": "Python 3",
   "language": "python",
   "name": "python3"
  },
  "language_info": {
   "codemirror_mode": {
    "name": "ipython",
    "version": 3
   },
   "file_extension": ".py",
   "mimetype": "text/x-python",
   "name": "python",
   "nbconvert_exporter": "python",
   "pygments_lexer": "ipython3",
   "version": "3.7.3"
  }
 },
 "nbformat": 4,
 "nbformat_minor": 2
}
